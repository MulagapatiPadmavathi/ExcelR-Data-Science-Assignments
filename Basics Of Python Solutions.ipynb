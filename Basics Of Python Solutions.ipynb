{
 "cells": [
  {
   "cell_type": "markdown",
   "id": "362edac0-562b-4421-add1-ef951d6288f2",
   "metadata": {},
   "source": [
    "# Exercise 1: Prime Numbers\n",
    "Write a Python program that checks whether a given number is prime or not. A prime number is a natural number greater than 1 that has no positive divisors other than 1 and itself"
   ]
  },
  {
   "cell_type": "code",
   "execution_count": 18,
   "id": "d16d3fb5-2d15-44ec-9300-18800085b3f8",
   "metadata": {},
   "outputs": [
    {
     "name": "stdin",
     "output_type": "stream",
     "text": [
      "Enter a number:  2415\n"
     ]
    },
    {
     "name": "stdout",
     "output_type": "stream",
     "text": [
      "2415 is not a prime number.\n"
     ]
    }
   ],
   "source": [
    "def is_prime(n):   #The function is_prime(n) first checks if n is less than or equal to 1, in which case it returns False. \n",
    "    # Check if the number is less than or equal to 1\n",
    "    if n <= 1:\n",
    "        return False\n",
    "    \n",
    "    # Check from 2 to the square root of n\n",
    "    for i in range(2, int(n ** 0.5) + 1):      #In each iteration of the loop, the code checks whether n is divisible by i using n % i == 0. If n is divisible by any number i, it means that n is not a prime number, and the function returns False.\n",
    "        if n % i == 0:\n",
    "            return False\n",
    "    \n",
    "    return True    #If the loop completes without finding any divisors (i.e., the number n is not divisible by any number between 2 and the square root of n), the function returns True, indicating that the number is prime.\n",
    "\n",
    "# Input number to check\n",
    "num = int(input(\"Enter a number: \"))\n",
    "\n",
    "if is_prime(num):         #The program calls the is_prime() function with num as the argument.\n",
    "    print(f\"{num} is a prime number.\")         #If the function returns True, the program prints that the number is a prime number.\n",
    "else:\n",
    "    print(f\"{num} is not a prime number.\")    #If the function returns False, it prints that the number is not a prime number."
   ]
  },
  {
   "cell_type": "markdown",
   "id": "189ad939-7b38-47a4-96cf-f8ca7ddedc0b",
   "metadata": {},
   "source": [
    "# Exercise 2: Product of Random Numbers\n",
    "Develop a Python program that generates two random numbers and asks the user to enter the product of these numbers. The program should then check if the user's answer is correct and display an appropriate message."
   ]
  },
  {
   "cell_type": "code",
   "execution_count": 20,
   "id": "55f47a60-4571-4df9-befb-c2d4f55fb956",
   "metadata": {},
   "outputs": [
    {
     "name": "stdin",
     "output_type": "stream",
     "text": [
      "What is 10 * 7?  85\n"
     ]
    },
    {
     "name": "stdout",
     "output_type": "stream",
     "text": [
      "Wrong! The correct answer is 70.\n"
     ]
    }
   ],
   "source": [
    "import random\n",
    "\n",
    "def multiplication_quiz():\n",
    "    # Generate two random numbers between 1 and 10\n",
    "    num1 = random.randint(1, 10)      #The program uses random.randint(1, 10) to generate two random integers between 1 and 10, inclusive.\n",
    "    num2 = random.randint(1, 10)\n",
    "\n",
    "    # Calculate the correct answer\n",
    "    correct_answer = num1 * num2      #The program multiplies the two random numbers and stores the result in the variable correct_answer\n",
    "\n",
    "    # Ask the user to input the product of the two numbers\n",
    "    user_answer = int(input(f\"What is {num1} * {num2}? \"))       #The program displays a message asking the user to enter the product of num1 and num2, and it converts the user's input to an integer using int().\n",
    "\n",
    "    # Check if the user's answer is correct \n",
    "    if user_answer == correct_answer:          #The program compares the user's input with the correct answer.\n",
    "        print(\"Correct! Well done.\")          #If the user's answer matches the correct answer, it prints a congratulatory message.\n",
    "    else:\n",
    "        print(f\"Wrong! The correct answer is {correct_answer}.\")     #Otherwise, it tells the user that they were wrong and provides the correct answer.\n",
    "\n",
    "# Run the multiplication quiz\n",
    "multiplication_quiz()\n"
   ]
  },
  {
   "cell_type": "markdown",
   "id": "a16bf2a1-532f-4394-9e07-89860b4c5e09",
   "metadata": {},
   "source": [
    "# Exercise 3: Squares of Even/Odd Numbers\n",
    "Create a Python script that prints the squares of all even or odd numbers within the range of 100 to 200. Choose either even or odd numbers and document your choice in the code.\n"
   ]
  },
  {
   "cell_type": "code",
   "execution_count": 23,
   "id": "a4689ee6-147d-4342-8d8b-b7a88999b843",
   "metadata": {},
   "outputs": [
    {
     "name": "stdout",
     "output_type": "stream",
     "text": [
      "The square of 100 is 10000\n",
      "The square of 102 is 10404\n",
      "The square of 104 is 10816\n",
      "The square of 106 is 11236\n",
      "The square of 108 is 11664\n",
      "The square of 110 is 12100\n",
      "The square of 112 is 12544\n",
      "The square of 114 is 12996\n",
      "The square of 116 is 13456\n",
      "The square of 118 is 13924\n",
      "The square of 120 is 14400\n",
      "The square of 122 is 14884\n",
      "The square of 124 is 15376\n",
      "The square of 126 is 15876\n",
      "The square of 128 is 16384\n",
      "The square of 130 is 16900\n",
      "The square of 132 is 17424\n",
      "The square of 134 is 17956\n",
      "The square of 136 is 18496\n",
      "The square of 138 is 19044\n",
      "The square of 140 is 19600\n",
      "The square of 142 is 20164\n",
      "The square of 144 is 20736\n",
      "The square of 146 is 21316\n",
      "The square of 148 is 21904\n",
      "The square of 150 is 22500\n",
      "The square of 152 is 23104\n",
      "The square of 154 is 23716\n",
      "The square of 156 is 24336\n",
      "The square of 158 is 24964\n",
      "The square of 160 is 25600\n",
      "The square of 162 is 26244\n",
      "The square of 164 is 26896\n",
      "The square of 166 is 27556\n",
      "The square of 168 is 28224\n",
      "The square of 170 is 28900\n",
      "The square of 172 is 29584\n",
      "The square of 174 is 30276\n",
      "The square of 176 is 30976\n",
      "The square of 178 is 31684\n",
      "The square of 180 is 32400\n",
      "The square of 182 is 33124\n",
      "The square of 184 is 33856\n",
      "The square of 186 is 34596\n",
      "The square of 188 is 35344\n",
      "The square of 190 is 36100\n",
      "The square of 192 is 36864\n",
      "The square of 194 is 37636\n",
      "The square of 196 is 38416\n",
      "The square of 198 is 39204\n",
      "The square of 200 is 40000\n"
     ]
    }
   ],
   "source": [
    "# This script prints the squares of all even numbers between 100 and 200.\n",
    "# Choice: Even numbers\n",
    "\n",
    "def square_of_even_numbers():\n",
    "    for num in range(100, 201):  # Looping through numbers from 100 to 200 (inclusive)\n",
    "        if num % 2 == 0:         # Check if the number is even\n",
    "            print(f\"The square of {num} is {num ** 2}\")     #If the number is even, the program prints the number and its square using the expression num ** 2.\n",
    "\n",
    "# Call the function to execute\n",
    "square_of_even_numbers()\n"
   ]
  },
  {
   "cell_type": "code",
   "execution_count": 26,
   "id": "686e255f-9203-459d-a3d1-95d2f50ff893",
   "metadata": {},
   "outputs": [
    {
     "name": "stdout",
     "output_type": "stream",
     "text": [
      "The square of 101 is 10201\n",
      "The square of 103 is 10609\n",
      "The square of 105 is 11025\n",
      "The square of 107 is 11449\n",
      "The square of 109 is 11881\n",
      "The square of 111 is 12321\n",
      "The square of 113 is 12769\n",
      "The square of 115 is 13225\n",
      "The square of 117 is 13689\n",
      "The square of 119 is 14161\n",
      "The square of 121 is 14641\n",
      "The square of 123 is 15129\n",
      "The square of 125 is 15625\n",
      "The square of 127 is 16129\n",
      "The square of 129 is 16641\n",
      "The square of 131 is 17161\n",
      "The square of 133 is 17689\n",
      "The square of 135 is 18225\n",
      "The square of 137 is 18769\n",
      "The square of 139 is 19321\n",
      "The square of 141 is 19881\n",
      "The square of 143 is 20449\n",
      "The square of 145 is 21025\n",
      "The square of 147 is 21609\n",
      "The square of 149 is 22201\n",
      "The square of 151 is 22801\n",
      "The square of 153 is 23409\n",
      "The square of 155 is 24025\n",
      "The square of 157 is 24649\n",
      "The square of 159 is 25281\n",
      "The square of 161 is 25921\n",
      "The square of 163 is 26569\n",
      "The square of 165 is 27225\n",
      "The square of 167 is 27889\n",
      "The square of 169 is 28561\n",
      "The square of 171 is 29241\n",
      "The square of 173 is 29929\n",
      "The square of 175 is 30625\n",
      "The square of 177 is 31329\n",
      "The square of 179 is 32041\n",
      "The square of 181 is 32761\n",
      "The square of 183 is 33489\n",
      "The square of 185 is 34225\n",
      "The square of 187 is 34969\n",
      "The square of 189 is 35721\n",
      "The square of 191 is 36481\n",
      "The square of 193 is 37249\n",
      "The square of 195 is 38025\n",
      "The square of 197 is 38809\n",
      "The square of 199 is 39601\n"
     ]
    }
   ],
   "source": [
    "#If we want to print the squares of odd numbers instead, just we have to modify the condition to check for odd numbers (num % 2 != 0).\n",
    "\n",
    "\n",
    "# This script prints the squares of all Odd numbers between 100 and 200.\n",
    "# Choice: Odd numbers\n",
    "\n",
    "def square_of_odd_numbers():\n",
    "    for num in range(100, 200):  # Looping through numbers from 100 to 199 (inclusive)\n",
    "        if (num % 2 != 0):         # Check if the number is odd\n",
    "            print(f\"The square of {num} is {num ** 2}\")     #If the number is odd, the program prints the number and its square using the expression num ** 2.\n",
    "\n",
    "# Call the function to execute\n",
    "square_of_odd_numbers()\n"
   ]
  },
  {
   "cell_type": "markdown",
   "id": "2c1f89d1-39a8-48ae-a209-67436b3f8241",
   "metadata": {},
   "source": [
    "# Exercise 4: Word counter\n",
    "write a program to count the number of words in a given text.\n",
    "- example:\n",
    "- input_text = \"This is a sample text. This text will be used to demonstrate the word counter.\"\n",
    "- Expected output:\n",
    "'This': 2 \n",
    "'is': 1\n",
    "'a': 1\n",
    "'sample': 1\n",
    "'text.': 1\n"
   ]
  },
  {
   "cell_type": "code",
   "execution_count": 27,
   "id": "e0064e4c-a527-4fc0-b22c-d5057d603930",
   "metadata": {},
   "outputs": [
    {
     "name": "stdout",
     "output_type": "stream",
     "text": [
      "'This': 2\n",
      "'is': 1\n",
      "'a': 1\n",
      "'sample': 1\n",
      "'text.': 1\n",
      "'text': 1\n",
      "'will': 1\n",
      "'be': 1\n",
      "'used': 1\n",
      "'to': 1\n",
      "'demonstrate': 1\n",
      "'the': 1\n",
      "'word': 1\n",
      "'counter.': 1\n"
     ]
    }
   ],
   "source": [
    "def word_counter(input_text):\n",
    "    # Split the input text into a list of words\n",
    "    words = input_text.split()\n",
    "\n",
    "    # Create a dictionary to store word counts\n",
    "    word_count = {}\n",
    "\n",
    "    # Iterate through each word in the list\n",
    "    for word in words:\n",
    "        # If the word is already in the dictionary, increment its count\n",
    "        if word in word_count:\n",
    "            word_count[word] += 1\n",
    "        else:\n",
    "            # If the word is not in the dictionary, add it with a count of 1\n",
    "            word_count[word] = 1\n",
    "\n",
    "    # Print the word counts\n",
    "    for word, count in word_count.items():\n",
    "        print(f\"'{word}': {count}\")\n",
    "\n",
    "# Sample input text\n",
    "input_text = \"This is a sample text. This text will be used to demonstrate the word counter.\"\n",
    "\n",
    "# Call the word counter function\n",
    "word_counter(input_text)\n"
   ]
  },
  {
   "cell_type": "markdown",
   "id": "61e98a2d-2098-4bd0-82ee-73ecaddeead1",
   "metadata": {},
   "source": [
    "# Exercise 5: Check for Palindrome\n",
    "Write a Python function called is_palindrome that takes a string as input and returns True if the string is a palindrome, and False otherwise. \n",
    "- A palindrome is a word, phrase, number, or other sequence of characters that reads the same forward and backward, ignoring spaces, punctuation, and capitalization.\n",
    "- Example:\r\n",
    "Input: \"racecar\"\r\n",
    "Expected Output: True\r\n",
    "\n"
   ]
  },
  {
   "cell_type": "code",
   "execution_count": 39,
   "id": "315709e9-8afe-44a8-b776-7d21d5ba9f13",
   "metadata": {},
   "outputs": [
    {
     "name": "stdout",
     "output_type": "stream",
     "text": [
      "True\n"
     ]
    }
   ],
   "source": [
    "import re\n",
    "\n",
    "def is_palindrome(input_string):\n",
    "    # Convert the string to lowercase and remove non-alphanumeric characters\n",
    "    #The re.sub(r'[^A-Za-z0-9]', '', input_string.lower()) uses a regular expression to remove all characters that are not letters or numbers.\n",
    "    cleaned_string = re.sub(r'[^A-Za-z0-9]', '', input_string.lower())   #input_string.lower() converts the string to lowercase to make the palindrome check case-insensitive.\n",
    "\n",
    "    # Check if the cleaned string is the same forward and backward\n",
    "    return cleaned_string == cleaned_string[::-1]\n",
    "\n",
    "# Example usage\n",
    "input_string = \"racecar\"       #The string is already lowercase and doesn't have any non-alphanumeric characters, so the cleaned string remains \"racecar\".\n",
    "print(is_palindrome(input_string))  #The reverse of \"racecar\" is still \"racecar\", so the function returns True.\n"
   ]
  },
  {
   "cell_type": "code",
   "execution_count": null,
   "id": "43cdae74-4ce4-4888-9c52-8f0649c4f598",
   "metadata": {},
   "outputs": [],
   "source": []
  },
  {
   "cell_type": "code",
   "execution_count": null,
   "id": "79e358a3-0ae0-46cd-932f-6bbd96c60a2f",
   "metadata": {},
   "outputs": [],
   "source": []
  }
 ],
 "metadata": {
  "kernelspec": {
   "display_name": "Python 3 (ipykernel)",
   "language": "python",
   "name": "python3"
  },
  "language_info": {
   "codemirror_mode": {
    "name": "ipython",
    "version": 3
   },
   "file_extension": ".py",
   "mimetype": "text/x-python",
   "name": "python",
   "nbconvert_exporter": "python",
   "pygments_lexer": "ipython3",
   "version": "3.11.7"
  }
 },
 "nbformat": 4,
 "nbformat_minor": 5
}
