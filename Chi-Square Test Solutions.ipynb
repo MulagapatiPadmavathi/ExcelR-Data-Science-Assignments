{
 "cells": [
  {
   "cell_type": "markdown",
   "id": "02e196c4-80b5-4123-a043-a1976ed429b0",
   "metadata": {},
   "source": [
    "# 1. State the Hypothesis\n",
    "- Null Hypothesis (H₀): There is no association between the type of smart home device purchased (Smart Thermostat vs. Smart Light) and customer satisfaction level.\n",
    "- Alternative Hypothesis (H₁): There is an association between the type of smart home device purchased and customer satisfaction level."
   ]
  },
  {
   "cell_type": "code",
   "execution_count": 63,
   "id": "980264a6-3096-4a06-8117-f0c0bd52f647",
   "metadata": {},
   "outputs": [],
   "source": [
    "import pandas as pd\n",
    "import researchpy as rp"
   ]
  },
  {
   "cell_type": "code",
   "execution_count": 64,
   "id": "90288c0d-7fac-419a-8886-01fa326dad07",
   "metadata": {},
   "outputs": [
    {
     "data": {
      "text/html": [
       "<div>\n",
       "<style scoped>\n",
       "    .dataframe tbody tr th:only-of-type {\n",
       "        vertical-align: middle;\n",
       "    }\n",
       "\n",
       "    .dataframe tbody tr th {\n",
       "        vertical-align: top;\n",
       "    }\n",
       "\n",
       "    .dataframe thead th {\n",
       "        text-align: right;\n",
       "    }\n",
       "</style>\n",
       "<table border=\"1\" class=\"dataframe\">\n",
       "  <thead>\n",
       "    <tr style=\"text-align: right;\">\n",
       "      <th></th>\n",
       "      <th>Device_Type</th>\n",
       "      <th>Satisfaction</th>\n",
       "      <th>Count</th>\n",
       "    </tr>\n",
       "  </thead>\n",
       "  <tbody>\n",
       "    <tr>\n",
       "      <th>0</th>\n",
       "      <td>Smart Thermostat</td>\n",
       "      <td>Very Satisfied</td>\n",
       "      <td>50</td>\n",
       "    </tr>\n",
       "    <tr>\n",
       "      <th>1</th>\n",
       "      <td>Smart Thermostat</td>\n",
       "      <td>Satisfied</td>\n",
       "      <td>80</td>\n",
       "    </tr>\n",
       "    <tr>\n",
       "      <th>2</th>\n",
       "      <td>Smart Thermostat</td>\n",
       "      <td>Neutral</td>\n",
       "      <td>60</td>\n",
       "    </tr>\n",
       "    <tr>\n",
       "      <th>3</th>\n",
       "      <td>Smart Thermostat</td>\n",
       "      <td>Unsatisfied</td>\n",
       "      <td>30</td>\n",
       "    </tr>\n",
       "    <tr>\n",
       "      <th>4</th>\n",
       "      <td>Smart Thermostat</td>\n",
       "      <td>Very Unsatisfied</td>\n",
       "      <td>20</td>\n",
       "    </tr>\n",
       "    <tr>\n",
       "      <th>5</th>\n",
       "      <td>Smart Light</td>\n",
       "      <td>Very Satisfied</td>\n",
       "      <td>70</td>\n",
       "    </tr>\n",
       "    <tr>\n",
       "      <th>6</th>\n",
       "      <td>Smart Light</td>\n",
       "      <td>Satisfied</td>\n",
       "      <td>100</td>\n",
       "    </tr>\n",
       "    <tr>\n",
       "      <th>7</th>\n",
       "      <td>Smart Light</td>\n",
       "      <td>Neutral</td>\n",
       "      <td>90</td>\n",
       "    </tr>\n",
       "    <tr>\n",
       "      <th>8</th>\n",
       "      <td>Smart Light</td>\n",
       "      <td>Unsatisfied</td>\n",
       "      <td>50</td>\n",
       "    </tr>\n",
       "    <tr>\n",
       "      <th>9</th>\n",
       "      <td>Smart Light</td>\n",
       "      <td>Very Unsatisfied</td>\n",
       "      <td>50</td>\n",
       "    </tr>\n",
       "  </tbody>\n",
       "</table>\n",
       "</div>"
      ],
      "text/plain": [
       "        Device_Type      Satisfaction  Count\n",
       "0  Smart Thermostat    Very Satisfied     50\n",
       "1  Smart Thermostat         Satisfied     80\n",
       "2  Smart Thermostat           Neutral     60\n",
       "3  Smart Thermostat       Unsatisfied     30\n",
       "4  Smart Thermostat  Very Unsatisfied     20\n",
       "5       Smart Light    Very Satisfied     70\n",
       "6       Smart Light         Satisfied    100\n",
       "7       Smart Light           Neutral     90\n",
       "8       Smart Light       Unsatisfied     50\n",
       "9       Smart Light  Very Unsatisfied     50"
      ]
     },
     "execution_count": 64,
     "metadata": {},
     "output_type": "execute_result"
    }
   ],
   "source": [
    "# Data : Creating a DataFrame from the observed frequencies\n",
    "\n",
    "data = {\n",
    "    'Device_Type': ['Smart Thermostat'] * 5 + ['Smart Light'] * 5,\n",
    "    'Satisfaction': ['Very Satisfied', 'Satisfied', 'Neutral', 'Unsatisfied', 'Very Unsatisfied'] * 2,\n",
    "    'Count': [50, 80, 60, 30, 20, 70, 100, 90, 50, 50]\n",
    "}\n",
    "df = pd.DataFrame(data)\n",
    "df"
   ]
  },
  {
   "cell_type": "code",
   "execution_count": 65,
   "id": "455417d8-2b58-4252-aed5-7c16ac4d88f6",
   "metadata": {},
   "outputs": [
    {
     "data": {
      "text/html": [
       "<div>\n",
       "<style scoped>\n",
       "    .dataframe tbody tr th:only-of-type {\n",
       "        vertical-align: middle;\n",
       "    }\n",
       "\n",
       "    .dataframe tbody tr th {\n",
       "        vertical-align: top;\n",
       "    }\n",
       "\n",
       "    .dataframe thead th {\n",
       "        text-align: right;\n",
       "    }\n",
       "</style>\n",
       "<table border=\"1\" class=\"dataframe\">\n",
       "  <thead>\n",
       "    <tr style=\"text-align: right;\">\n",
       "      <th>Device_Type</th>\n",
       "      <th>Smart Light</th>\n",
       "      <th>Smart Thermostat</th>\n",
       "      <th>All</th>\n",
       "    </tr>\n",
       "    <tr>\n",
       "      <th>Satisfaction</th>\n",
       "      <th></th>\n",
       "      <th></th>\n",
       "      <th></th>\n",
       "    </tr>\n",
       "  </thead>\n",
       "  <tbody>\n",
       "    <tr>\n",
       "      <th>Neutral</th>\n",
       "      <td>90</td>\n",
       "      <td>60</td>\n",
       "      <td>150</td>\n",
       "    </tr>\n",
       "    <tr>\n",
       "      <th>Satisfied</th>\n",
       "      <td>100</td>\n",
       "      <td>80</td>\n",
       "      <td>180</td>\n",
       "    </tr>\n",
       "    <tr>\n",
       "      <th>Unsatisfied</th>\n",
       "      <td>50</td>\n",
       "      <td>30</td>\n",
       "      <td>80</td>\n",
       "    </tr>\n",
       "    <tr>\n",
       "      <th>Very Satisfied</th>\n",
       "      <td>70</td>\n",
       "      <td>50</td>\n",
       "      <td>120</td>\n",
       "    </tr>\n",
       "    <tr>\n",
       "      <th>Very Unsatisfied</th>\n",
       "      <td>50</td>\n",
       "      <td>20</td>\n",
       "      <td>70</td>\n",
       "    </tr>\n",
       "    <tr>\n",
       "      <th>All</th>\n",
       "      <td>360</td>\n",
       "      <td>240</td>\n",
       "      <td>600</td>\n",
       "    </tr>\n",
       "  </tbody>\n",
       "</table>\n",
       "</div>"
      ],
      "text/plain": [
       "Device_Type       Smart Light  Smart Thermostat  All\n",
       "Satisfaction                                        \n",
       "Neutral                    90                60  150\n",
       "Satisfied                 100                80  180\n",
       "Unsatisfied                50                30   80\n",
       "Very Satisfied             70                50  120\n",
       "Very Unsatisfied           50                20   70\n",
       "All                       360               240  600"
      ]
     },
     "execution_count": 65,
     "metadata": {},
     "output_type": "execute_result"
    }
   ],
   "source": [
    "# Creating the contingency table to match the format provided in the question\n",
    "contingency_table = pd.crosstab(df['Satisfaction'], df['Device_Type'], values=df['Count'], aggfunc='sum', margins=True)\n",
    "contingency_table"
   ]
  },
  {
   "cell_type": "markdown",
   "id": "53a6cc9f-96d1-4c2c-b099-0bf7b6698585",
   "metadata": {},
   "source": [
    "# 2. Compute the Chi-Square Statistic:"
   ]
  },
  {
   "cell_type": "code",
   "execution_count": 66,
   "id": "a9ab7d68-8106-45c0-acc8-404b66aa5b1a",
   "metadata": {},
   "outputs": [
    {
     "name": "stdout",
     "output_type": "stream",
     "text": [
      "\n",
      "Chi-Square Test Results:\n",
      "                Chi-square test  results\n",
      "0  Pearson Chi-square ( 4.0) =    5.6382\n",
      "1                    p-value =    0.2278\n",
      "2                 Cramer's V =    0.0969\n"
     ]
    },
    {
     "name": "stderr",
     "output_type": "stream",
     "text": [
      "C:\\Users\\mulag\\anaconda3\\Lib\\site-packages\\researchpy\\crosstab.py:146: FutureWarning: Setting an item of incompatible dtype is deprecated and will raise in a future error of pandas. Value 'Pearson Chi-square ( 4.0) = ' has dtype incompatible with float64, please explicitly cast to a compatible dtype first.\n",
      "  table.iloc[0,0] = f\"Pearson Chi-square ({dof: .1f}) = \"\n"
     ]
    }
   ],
   "source": [
    "# Now expand the data based on the 'Count' column\n",
    "df_expanded = df.loc[df.index.repeat(df['Count'])].reset_index(drop=True)\n",
    "\n",
    "# Perform the chi-square test using researchpy\n",
    "table, results = rp.crosstab(df_expanded['Satisfaction'], df_expanded['Device_Type'], test='chi-square')\n",
    "table \n",
    "\n",
    "# Print the chi-square test results\n",
    "print(\"\\nChi-Square Test Results:\")\n",
    "print(results)"
   ]
  },
  {
   "cell_type": "code",
   "execution_count": 67,
   "id": "aa6e9dff-030d-41ee-9e6d-afcee0d02c65",
   "metadata": {},
   "outputs": [
    {
     "data": {
      "text/plain": [
       "5.6382"
      ]
     },
     "execution_count": 67,
     "metadata": {},
     "output_type": "execute_result"
    }
   ],
   "source": [
    "chi_square_stat = results['results'].iloc[0]\n",
    "chi_square_stat"
   ]
  },
  {
   "cell_type": "markdown",
   "id": "ec3984fd-bfcb-4184-9fc1-50cfe91b3ca3",
   "metadata": {},
   "source": [
    "# 3. Determine the Critical Value\n",
    "- The degrees of freedom (𝑑𝑓) for a chi-square test is calculated as:\n",
    "- 𝑑𝑓=(number of rows−1)×(number of columns−1)\n",
    "- For this table: Rows = 5 (Satisfaction categories), Columns = 2 (Device types)\n",
    "- So,𝑑𝑓=(5−1)×(2−1)=4\n",
    "- Using a significance level : 𝛼=0.05 we will look up the critical value from the chi-square distribution table for 4 degrees of freedom"
   ]
  },
  {
   "cell_type": "code",
   "execution_count": 68,
   "id": "9c1cfe11-cda8-4529-8c1a-b9ad0be8c0e7",
   "metadata": {},
   "outputs": [
    {
     "data": {
      "text/plain": [
       "9.49"
      ]
     },
     "execution_count": 68,
     "metadata": {},
     "output_type": "execute_result"
    }
   ],
   "source": [
    "import scipy.stats as stats\n",
    "critical_value = stats.chi2.ppf(q = 0.95, df = 4)\n",
    "critical_value.round(2)    "
   ]
  },
  {
   "cell_type": "markdown",
   "id": "8b2e4748-9393-41c9-9759-f85b062fc278",
   "metadata": {},
   "source": [
    "# 4. Decision Making"
   ]
  },
  {
   "cell_type": "code",
   "execution_count": 69,
   "id": "52ed32ed-f36d-425a-952b-a692f1be356b",
   "metadata": {},
   "outputs": [
    {
     "name": "stdout",
     "output_type": "stream",
     "text": [
      "\n",
      "Decision: Fail to reject the null hypothesis. No significant association between device type and satisfaction level.\n"
     ]
    }
   ],
   "source": [
    "# Decision based on the results\n",
    "\n",
    "if chi_square_stat > critical_value:\n",
    "    print(\"\\nDecision: Reject the null hypothesis. There is a significant association between device type and satisfaction level.\")\n",
    "else:\n",
    "    print(\"\\nDecision: Fail to reject the null hypothesis. No significant association between device type and satisfaction level.\")"
   ]
  },
  {
   "cell_type": "markdown",
   "id": "7defdebc-7553-4c58-8c0f-3cda8cd6b946",
   "metadata": {},
   "source": [
    "# 5. Conclusion"
   ]
  },
  {
   "cell_type": "code",
   "execution_count": 70,
   "id": "c55f9615-ddfe-4e80-bc2d-104e99ed50f7",
   "metadata": {},
   "outputs": [
    {
     "name": "stdout",
     "output_type": "stream",
     "text": [
      "Since the chi-square statistic (5.64) is less than the critical value (9.49), and the p-value (0.228) is greater than 0.05, we fail to reject the null hypothesis. This means there is no significant association between the type of smart home device purchased and the customer satisfaction level at the 0.05 significance level.\n"
     ]
    }
   ],
   "source": [
    "# conclusions based on above analysis\n",
    "\n",
    "print(\"Since the chi-square statistic (5.64) is less than the critical value (9.49), and the p-value (0.228) is greater than 0.05, we fail to reject the null hypothesis. This means there is no significant association between the type of smart home device purchased and the customer satisfaction level at the 0.05 significance level.\")"
   ]
  }
 ],
 "metadata": {
  "kernelspec": {
   "display_name": "Python 3 (ipykernel)",
   "language": "python",
   "name": "python3"
  },
  "language_info": {
   "codemirror_mode": {
    "name": "ipython",
    "version": 3
   },
   "file_extension": ".py",
   "mimetype": "text/x-python",
   "name": "python",
   "nbconvert_exporter": "python",
   "pygments_lexer": "ipython3",
   "version": "3.11.7"
  }
 },
 "nbformat": 4,
 "nbformat_minor": 5
}
