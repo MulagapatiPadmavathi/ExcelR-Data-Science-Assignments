{
 "cells": [
  {
   "cell_type": "markdown",
   "id": "9d42e3c3-f91d-4dbe-afbb-6f1e9dda90cf",
   "metadata": {},
   "source": [
    "# Data Preprocessing:\n",
    "Pre-process the dataset to ensure it is suitable for Association rules, this may include handling missing values, removing duplicates, and converting the data to appropriate format.  "
   ]
  },
  {
   "cell_type": "code",
   "execution_count": 1,
   "id": "787799cf-2607-46ea-ad8f-bc470f8eed1f",
   "metadata": {},
   "outputs": [
    {
     "data": {
      "text/plain": [
       "(7501, 1)"
      ]
     },
     "execution_count": 1,
     "metadata": {},
     "output_type": "execute_result"
    }
   ],
   "source": [
    "import pandas as pd\n",
    "df = pd.read_excel('Online retail.xlsx', header = None)\n",
    "df.shape"
   ]
  },
  {
   "cell_type": "code",
   "execution_count": 2,
   "id": "1cc7d931-8b9c-49fe-9fea-34833c0504c0",
   "metadata": {},
   "outputs": [
    {
     "data": {
      "text/html": [
       "<div>\n",
       "<style scoped>\n",
       "    .dataframe tbody tr th:only-of-type {\n",
       "        vertical-align: middle;\n",
       "    }\n",
       "\n",
       "    .dataframe tbody tr th {\n",
       "        vertical-align: top;\n",
       "    }\n",
       "\n",
       "    .dataframe thead th {\n",
       "        text-align: right;\n",
       "    }\n",
       "</style>\n",
       "<table border=\"1\" class=\"dataframe\">\n",
       "  <thead>\n",
       "    <tr style=\"text-align: right;\">\n",
       "      <th></th>\n",
       "      <th>0</th>\n",
       "    </tr>\n",
       "  </thead>\n",
       "  <tbody>\n",
       "    <tr>\n",
       "      <th>0</th>\n",
       "      <td>shrimp,almonds,avocado,vegetables mix,green gr...</td>\n",
       "    </tr>\n",
       "    <tr>\n",
       "      <th>1</th>\n",
       "      <td>burgers,meatballs,eggs</td>\n",
       "    </tr>\n",
       "    <tr>\n",
       "      <th>2</th>\n",
       "      <td>chutney</td>\n",
       "    </tr>\n",
       "    <tr>\n",
       "      <th>3</th>\n",
       "      <td>turkey,avocado</td>\n",
       "    </tr>\n",
       "    <tr>\n",
       "      <th>4</th>\n",
       "      <td>mineral water,milk,energy bar,whole wheat rice...</td>\n",
       "    </tr>\n",
       "  </tbody>\n",
       "</table>\n",
       "</div>"
      ],
      "text/plain": [
       "                                                   0\n",
       "0  shrimp,almonds,avocado,vegetables mix,green gr...\n",
       "1                             burgers,meatballs,eggs\n",
       "2                                            chutney\n",
       "3                                     turkey,avocado\n",
       "4  mineral water,milk,energy bar,whole wheat rice..."
      ]
     },
     "execution_count": 2,
     "metadata": {},
     "output_type": "execute_result"
    }
   ],
   "source": [
    "df.head()"
   ]
  },
  {
   "cell_type": "code",
   "execution_count": 3,
   "id": "9f36f1af-389a-4353-89c4-0e6070672e07",
   "metadata": {},
   "outputs": [
    {
     "name": "stdout",
     "output_type": "stream",
     "text": [
      "<class 'pandas.core.frame.DataFrame'>\n",
      "RangeIndex: 7501 entries, 0 to 7500\n",
      "Data columns (total 1 columns):\n",
      " #   Column  Non-Null Count  Dtype \n",
      "---  ------  --------------  ----- \n",
      " 0   0       7501 non-null   object\n",
      "dtypes: object(1)\n",
      "memory usage: 58.7+ KB\n"
     ]
    }
   ],
   "source": [
    "df.info()"
   ]
  },
  {
   "cell_type": "code",
   "execution_count": 4,
   "id": "de26f20a-056e-4031-b9a7-0176c3c6b1a6",
   "metadata": {},
   "outputs": [
    {
     "data": {
      "text/html": [
       "<div>\n",
       "<style scoped>\n",
       "    .dataframe tbody tr th:only-of-type {\n",
       "        vertical-align: middle;\n",
       "    }\n",
       "\n",
       "    .dataframe tbody tr th {\n",
       "        vertical-align: top;\n",
       "    }\n",
       "\n",
       "    .dataframe thead th {\n",
       "        text-align: right;\n",
       "    }\n",
       "</style>\n",
       "<table border=\"1\" class=\"dataframe\">\n",
       "  <thead>\n",
       "    <tr style=\"text-align: right;\">\n",
       "      <th></th>\n",
       "      <th>0</th>\n",
       "    </tr>\n",
       "  </thead>\n",
       "  <tbody>\n",
       "    <tr>\n",
       "      <th>count</th>\n",
       "      <td>7501</td>\n",
       "    </tr>\n",
       "    <tr>\n",
       "      <th>unique</th>\n",
       "      <td>5176</td>\n",
       "    </tr>\n",
       "    <tr>\n",
       "      <th>top</th>\n",
       "      <td>cookies</td>\n",
       "    </tr>\n",
       "    <tr>\n",
       "      <th>freq</th>\n",
       "      <td>223</td>\n",
       "    </tr>\n",
       "  </tbody>\n",
       "</table>\n",
       "</div>"
      ],
      "text/plain": [
       "              0\n",
       "count      7501\n",
       "unique     5176\n",
       "top     cookies\n",
       "freq        223"
      ]
     },
     "execution_count": 4,
     "metadata": {},
     "output_type": "execute_result"
    }
   ],
   "source": [
    "df.describe()"
   ]
  },
  {
   "cell_type": "code",
   "execution_count": 5,
   "id": "8b8ce4f7-f4b0-417c-9ddf-933ffe6b5e2f",
   "metadata": {},
   "outputs": [
    {
     "data": {
      "text/plain": [
       "0    0\n",
       "dtype: int64"
      ]
     },
     "execution_count": 5,
     "metadata": {},
     "output_type": "execute_result"
    }
   ],
   "source": [
    "df.isnull().sum()"
   ]
  },
  {
   "cell_type": "markdown",
   "id": "ac20595c-a6d0-4fbf-bb7e-95372e05c2b2",
   "metadata": {},
   "source": [
    "# Association Rule Mining:\n",
    "•\tImplement an Apriori algorithm using tool like python with libraries such as Pandas and Mlxtend etc.\n",
    "\n",
    "•\t Apply association rule mining techniques to the pre-processed dataset to discover interesting relationships between products purchased together.\n",
    "\n",
    "•\tSet appropriate threshold for support, confidence and lift to extract meaning full rules."
   ]
  },
  {
   "cell_type": "code",
   "execution_count": 6,
   "id": "27190046-b87b-4c17-9cb9-1b0a58f270c4",
   "metadata": {},
   "outputs": [
    {
     "data": {
      "text/html": [
       "<div>\n",
       "<style scoped>\n",
       "    .dataframe tbody tr th:only-of-type {\n",
       "        vertical-align: middle;\n",
       "    }\n",
       "\n",
       "    .dataframe tbody tr th {\n",
       "        vertical-align: top;\n",
       "    }\n",
       "\n",
       "    .dataframe thead th {\n",
       "        text-align: right;\n",
       "    }\n",
       "</style>\n",
       "<table border=\"1\" class=\"dataframe\">\n",
       "  <thead>\n",
       "    <tr style=\"text-align: right;\">\n",
       "      <th></th>\n",
       "      <th>0</th>\n",
       "      <th>1</th>\n",
       "      <th>2</th>\n",
       "      <th>3</th>\n",
       "      <th>4</th>\n",
       "      <th>5</th>\n",
       "      <th>6</th>\n",
       "      <th>7</th>\n",
       "      <th>8</th>\n",
       "      <th>9</th>\n",
       "      <th>10</th>\n",
       "      <th>11</th>\n",
       "      <th>12</th>\n",
       "      <th>13</th>\n",
       "      <th>14</th>\n",
       "      <th>15</th>\n",
       "      <th>16</th>\n",
       "      <th>17</th>\n",
       "      <th>18</th>\n",
       "      <th>19</th>\n",
       "    </tr>\n",
       "  </thead>\n",
       "  <tbody>\n",
       "    <tr>\n",
       "      <th>0</th>\n",
       "      <td>shrimp</td>\n",
       "      <td>almonds</td>\n",
       "      <td>avocado</td>\n",
       "      <td>vegetables mix</td>\n",
       "      <td>green grapes</td>\n",
       "      <td>whole weat flour</td>\n",
       "      <td>yams</td>\n",
       "      <td>cottage cheese</td>\n",
       "      <td>energy drink</td>\n",
       "      <td>tomato juice</td>\n",
       "      <td>low fat yogurt</td>\n",
       "      <td>green tea</td>\n",
       "      <td>honey</td>\n",
       "      <td>salad</td>\n",
       "      <td>mineral water</td>\n",
       "      <td>salmon</td>\n",
       "      <td>antioxydant juice</td>\n",
       "      <td>frozen smoothie</td>\n",
       "      <td>spinach</td>\n",
       "      <td>olive oil</td>\n",
       "    </tr>\n",
       "    <tr>\n",
       "      <th>1</th>\n",
       "      <td>burgers</td>\n",
       "      <td>meatballs</td>\n",
       "      <td>eggs</td>\n",
       "      <td>None</td>\n",
       "      <td>None</td>\n",
       "      <td>None</td>\n",
       "      <td>None</td>\n",
       "      <td>None</td>\n",
       "      <td>None</td>\n",
       "      <td>None</td>\n",
       "      <td>None</td>\n",
       "      <td>None</td>\n",
       "      <td>None</td>\n",
       "      <td>None</td>\n",
       "      <td>None</td>\n",
       "      <td>None</td>\n",
       "      <td>None</td>\n",
       "      <td>None</td>\n",
       "      <td>None</td>\n",
       "      <td>None</td>\n",
       "    </tr>\n",
       "    <tr>\n",
       "      <th>2</th>\n",
       "      <td>chutney</td>\n",
       "      <td>None</td>\n",
       "      <td>None</td>\n",
       "      <td>None</td>\n",
       "      <td>None</td>\n",
       "      <td>None</td>\n",
       "      <td>None</td>\n",
       "      <td>None</td>\n",
       "      <td>None</td>\n",
       "      <td>None</td>\n",
       "      <td>None</td>\n",
       "      <td>None</td>\n",
       "      <td>None</td>\n",
       "      <td>None</td>\n",
       "      <td>None</td>\n",
       "      <td>None</td>\n",
       "      <td>None</td>\n",
       "      <td>None</td>\n",
       "      <td>None</td>\n",
       "      <td>None</td>\n",
       "    </tr>\n",
       "    <tr>\n",
       "      <th>3</th>\n",
       "      <td>turkey</td>\n",
       "      <td>avocado</td>\n",
       "      <td>None</td>\n",
       "      <td>None</td>\n",
       "      <td>None</td>\n",
       "      <td>None</td>\n",
       "      <td>None</td>\n",
       "      <td>None</td>\n",
       "      <td>None</td>\n",
       "      <td>None</td>\n",
       "      <td>None</td>\n",
       "      <td>None</td>\n",
       "      <td>None</td>\n",
       "      <td>None</td>\n",
       "      <td>None</td>\n",
       "      <td>None</td>\n",
       "      <td>None</td>\n",
       "      <td>None</td>\n",
       "      <td>None</td>\n",
       "      <td>None</td>\n",
       "    </tr>\n",
       "    <tr>\n",
       "      <th>4</th>\n",
       "      <td>mineral water</td>\n",
       "      <td>milk</td>\n",
       "      <td>energy bar</td>\n",
       "      <td>whole wheat rice</td>\n",
       "      <td>green tea</td>\n",
       "      <td>None</td>\n",
       "      <td>None</td>\n",
       "      <td>None</td>\n",
       "      <td>None</td>\n",
       "      <td>None</td>\n",
       "      <td>None</td>\n",
       "      <td>None</td>\n",
       "      <td>None</td>\n",
       "      <td>None</td>\n",
       "      <td>None</td>\n",
       "      <td>None</td>\n",
       "      <td>None</td>\n",
       "      <td>None</td>\n",
       "      <td>None</td>\n",
       "      <td>None</td>\n",
       "    </tr>\n",
       "    <tr>\n",
       "      <th>...</th>\n",
       "      <td>...</td>\n",
       "      <td>...</td>\n",
       "      <td>...</td>\n",
       "      <td>...</td>\n",
       "      <td>...</td>\n",
       "      <td>...</td>\n",
       "      <td>...</td>\n",
       "      <td>...</td>\n",
       "      <td>...</td>\n",
       "      <td>...</td>\n",
       "      <td>...</td>\n",
       "      <td>...</td>\n",
       "      <td>...</td>\n",
       "      <td>...</td>\n",
       "      <td>...</td>\n",
       "      <td>...</td>\n",
       "      <td>...</td>\n",
       "      <td>...</td>\n",
       "      <td>...</td>\n",
       "      <td>...</td>\n",
       "    </tr>\n",
       "    <tr>\n",
       "      <th>7496</th>\n",
       "      <td>butter</td>\n",
       "      <td>light mayo</td>\n",
       "      <td>fresh bread</td>\n",
       "      <td>None</td>\n",
       "      <td>None</td>\n",
       "      <td>None</td>\n",
       "      <td>None</td>\n",
       "      <td>None</td>\n",
       "      <td>None</td>\n",
       "      <td>None</td>\n",
       "      <td>None</td>\n",
       "      <td>None</td>\n",
       "      <td>None</td>\n",
       "      <td>None</td>\n",
       "      <td>None</td>\n",
       "      <td>None</td>\n",
       "      <td>None</td>\n",
       "      <td>None</td>\n",
       "      <td>None</td>\n",
       "      <td>None</td>\n",
       "    </tr>\n",
       "    <tr>\n",
       "      <th>7497</th>\n",
       "      <td>burgers</td>\n",
       "      <td>frozen vegetables</td>\n",
       "      <td>eggs</td>\n",
       "      <td>french fries</td>\n",
       "      <td>magazines</td>\n",
       "      <td>green tea</td>\n",
       "      <td>None</td>\n",
       "      <td>None</td>\n",
       "      <td>None</td>\n",
       "      <td>None</td>\n",
       "      <td>None</td>\n",
       "      <td>None</td>\n",
       "      <td>None</td>\n",
       "      <td>None</td>\n",
       "      <td>None</td>\n",
       "      <td>None</td>\n",
       "      <td>None</td>\n",
       "      <td>None</td>\n",
       "      <td>None</td>\n",
       "      <td>None</td>\n",
       "    </tr>\n",
       "    <tr>\n",
       "      <th>7498</th>\n",
       "      <td>chicken</td>\n",
       "      <td>None</td>\n",
       "      <td>None</td>\n",
       "      <td>None</td>\n",
       "      <td>None</td>\n",
       "      <td>None</td>\n",
       "      <td>None</td>\n",
       "      <td>None</td>\n",
       "      <td>None</td>\n",
       "      <td>None</td>\n",
       "      <td>None</td>\n",
       "      <td>None</td>\n",
       "      <td>None</td>\n",
       "      <td>None</td>\n",
       "      <td>None</td>\n",
       "      <td>None</td>\n",
       "      <td>None</td>\n",
       "      <td>None</td>\n",
       "      <td>None</td>\n",
       "      <td>None</td>\n",
       "    </tr>\n",
       "    <tr>\n",
       "      <th>7499</th>\n",
       "      <td>escalope</td>\n",
       "      <td>green tea</td>\n",
       "      <td>None</td>\n",
       "      <td>None</td>\n",
       "      <td>None</td>\n",
       "      <td>None</td>\n",
       "      <td>None</td>\n",
       "      <td>None</td>\n",
       "      <td>None</td>\n",
       "      <td>None</td>\n",
       "      <td>None</td>\n",
       "      <td>None</td>\n",
       "      <td>None</td>\n",
       "      <td>None</td>\n",
       "      <td>None</td>\n",
       "      <td>None</td>\n",
       "      <td>None</td>\n",
       "      <td>None</td>\n",
       "      <td>None</td>\n",
       "      <td>None</td>\n",
       "    </tr>\n",
       "    <tr>\n",
       "      <th>7500</th>\n",
       "      <td>eggs</td>\n",
       "      <td>frozen smoothie</td>\n",
       "      <td>yogurt cake</td>\n",
       "      <td>low fat yogurt</td>\n",
       "      <td>None</td>\n",
       "      <td>None</td>\n",
       "      <td>None</td>\n",
       "      <td>None</td>\n",
       "      <td>None</td>\n",
       "      <td>None</td>\n",
       "      <td>None</td>\n",
       "      <td>None</td>\n",
       "      <td>None</td>\n",
       "      <td>None</td>\n",
       "      <td>None</td>\n",
       "      <td>None</td>\n",
       "      <td>None</td>\n",
       "      <td>None</td>\n",
       "      <td>None</td>\n",
       "      <td>None</td>\n",
       "    </tr>\n",
       "  </tbody>\n",
       "</table>\n",
       "<p>7501 rows × 20 columns</p>\n",
       "</div>"
      ],
      "text/plain": [
       "                 0                  1            2                 3   \\\n",
       "0            shrimp            almonds      avocado    vegetables mix   \n",
       "1           burgers          meatballs         eggs              None   \n",
       "2           chutney               None         None              None   \n",
       "3            turkey            avocado         None              None   \n",
       "4     mineral water               milk   energy bar  whole wheat rice   \n",
       "...             ...                ...          ...               ...   \n",
       "7496         butter         light mayo  fresh bread              None   \n",
       "7497        burgers  frozen vegetables         eggs      french fries   \n",
       "7498        chicken               None         None              None   \n",
       "7499       escalope          green tea         None              None   \n",
       "7500           eggs    frozen smoothie  yogurt cake    low fat yogurt   \n",
       "\n",
       "                4                 5     6               7             8   \\\n",
       "0     green grapes  whole weat flour  yams  cottage cheese  energy drink   \n",
       "1             None              None  None            None          None   \n",
       "2             None              None  None            None          None   \n",
       "3             None              None  None            None          None   \n",
       "4        green tea              None  None            None          None   \n",
       "...            ...               ...   ...             ...           ...   \n",
       "7496          None              None  None            None          None   \n",
       "7497     magazines         green tea  None            None          None   \n",
       "7498          None              None  None            None          None   \n",
       "7499          None              None  None            None          None   \n",
       "7500          None              None  None            None          None   \n",
       "\n",
       "                9               10         11     12     13             14  \\\n",
       "0     tomato juice  low fat yogurt  green tea  honey  salad  mineral water   \n",
       "1             None            None       None   None   None           None   \n",
       "2             None            None       None   None   None           None   \n",
       "3             None            None       None   None   None           None   \n",
       "4             None            None       None   None   None           None   \n",
       "...            ...             ...        ...    ...    ...            ...   \n",
       "7496          None            None       None   None   None           None   \n",
       "7497          None            None       None   None   None           None   \n",
       "7498          None            None       None   None   None           None   \n",
       "7499          None            None       None   None   None           None   \n",
       "7500          None            None       None   None   None           None   \n",
       "\n",
       "          15                 16               17       18         19  \n",
       "0     salmon  antioxydant juice  frozen smoothie  spinach  olive oil  \n",
       "1       None               None             None     None       None  \n",
       "2       None               None             None     None       None  \n",
       "3       None               None             None     None       None  \n",
       "4       None               None             None     None       None  \n",
       "...      ...                ...              ...      ...        ...  \n",
       "7496    None               None             None     None       None  \n",
       "7497    None               None             None     None       None  \n",
       "7498    None               None             None     None       None  \n",
       "7499    None               None             None     None       None  \n",
       "7500    None               None             None     None       None  \n",
       "\n",
       "[7501 rows x 20 columns]"
      ]
     },
     "execution_count": 6,
     "metadata": {},
     "output_type": "execute_result"
    }
   ],
   "source": [
    "# Converting all values as each column\n",
    "df_new = df[0].str.split(',', expand = True)\n",
    "df_new"
   ]
  },
  {
   "cell_type": "code",
   "execution_count": 7,
   "id": "c862ad6a-09dc-4717-a7ed-0c6d86405288",
   "metadata": {},
   "outputs": [],
   "source": [
    "trans = []\n",
    "for i in range(0,7501):\n",
    "    trans.append([str(df_new.values[i,j]) for j in range(0,20)])"
   ]
  },
  {
   "cell_type": "code",
   "execution_count": 8,
   "id": "237bdee2-8270-42dc-a31f-5a85216cf796",
   "metadata": {},
   "outputs": [
    {
     "data": {
      "text/plain": [
       "7501"
      ]
     },
     "execution_count": 8,
     "metadata": {},
     "output_type": "execute_result"
    }
   ],
   "source": [
    "len(trans)"
   ]
  },
  {
   "cell_type": "code",
   "execution_count": 9,
   "id": "dc94a443-d3f9-4e2a-949d-c1c15818cc44",
   "metadata": {},
   "outputs": [
    {
     "data": {
      "text/plain": [
       "['shrimp',\n",
       " 'almonds',\n",
       " 'avocado',\n",
       " 'vegetables mix',\n",
       " 'green grapes',\n",
       " 'whole weat flour',\n",
       " 'yams',\n",
       " 'cottage cheese',\n",
       " 'energy drink',\n",
       " 'tomato juice',\n",
       " 'low fat yogurt',\n",
       " 'green tea',\n",
       " 'honey',\n",
       " 'salad',\n",
       " 'mineral water',\n",
       " 'salmon',\n",
       " 'antioxydant juice',\n",
       " 'frozen smoothie',\n",
       " 'spinach',\n",
       " 'olive oil']"
      ]
     },
     "execution_count": 9,
     "metadata": {},
     "output_type": "execute_result"
    }
   ],
   "source": [
    "trans[0]"
   ]
  },
  {
   "cell_type": "code",
   "execution_count": 10,
   "id": "0ebff4eb-5733-49a0-93ee-a272665e3d1d",
   "metadata": {},
   "outputs": [
    {
     "data": {
      "text/plain": [
       "['spaghetti',\n",
       " 'chocolate',\n",
       " 'brownies',\n",
       " 'white wine',\n",
       " 'green tea',\n",
       " 'None',\n",
       " 'None',\n",
       " 'None',\n",
       " 'None',\n",
       " 'None',\n",
       " 'None',\n",
       " 'None',\n",
       " 'None',\n",
       " 'None',\n",
       " 'None',\n",
       " 'None',\n",
       " 'None',\n",
       " 'None',\n",
       " 'None',\n",
       " 'None']"
      ]
     },
     "execution_count": 10,
     "metadata": {},
     "output_type": "execute_result"
    }
   ],
   "source": [
    "trans[50]"
   ]
  },
  {
   "cell_type": "code",
   "execution_count": 11,
   "id": "838c08fc-6738-42a9-8504-902ed9039597",
   "metadata": {},
   "outputs": [
    {
     "data": {
      "text/plain": [
       "['pancakes',\n",
       " 'energy drink',\n",
       " 'None',\n",
       " 'None',\n",
       " 'None',\n",
       " 'None',\n",
       " 'None',\n",
       " 'None',\n",
       " 'None',\n",
       " 'None',\n",
       " 'None',\n",
       " 'None',\n",
       " 'None',\n",
       " 'None',\n",
       " 'None',\n",
       " 'None',\n",
       " 'None',\n",
       " 'None',\n",
       " 'None',\n",
       " 'None']"
      ]
     },
     "execution_count": 11,
     "metadata": {},
     "output_type": "execute_result"
    }
   ],
   "source": [
    "trans[2000]"
   ]
  },
  {
   "cell_type": "code",
   "execution_count": 12,
   "id": "921eee60-3022-48f6-96ad-124e93fdf0a6",
   "metadata": {},
   "outputs": [
    {
     "data": {
      "text/plain": [
       "['eggs',\n",
       " 'frozen smoothie',\n",
       " 'yogurt cake',\n",
       " 'low fat yogurt',\n",
       " 'None',\n",
       " 'None',\n",
       " 'None',\n",
       " 'None',\n",
       " 'None',\n",
       " 'None',\n",
       " 'None',\n",
       " 'None',\n",
       " 'None',\n",
       " 'None',\n",
       " 'None',\n",
       " 'None',\n",
       " 'None',\n",
       " 'None',\n",
       " 'None',\n",
       " 'None']"
      ]
     },
     "execution_count": 12,
     "metadata": {},
     "output_type": "execute_result"
    }
   ],
   "source": [
    "trans[7500]"
   ]
  },
  {
   "cell_type": "code",
   "execution_count": 13,
   "id": "e5eaf52e-6ebf-41bd-85fa-46b6c08a9ce1",
   "metadata": {},
   "outputs": [],
   "source": [
    "# Implementing an Apriori Algorithm\n",
    "\n",
    "from apyori import apriori\n",
    "rules = apriori(transactions = trans,\n",
    "                min_support = 0.003,\n",
    "                min_confidence = 0.2, \n",
    "                min_lift = 3,\n",
    "                min_length = 2,\n",
    "                max_length = 2)"
   ]
  },
  {
   "cell_type": "code",
   "execution_count": 14,
   "id": "e98973ed-79b9-4d80-bc68-8986d17f63d7",
   "metadata": {},
   "outputs": [
    {
     "data": {
      "text/plain": [
       "<generator object apriori at 0x000002347AA2F480>"
      ]
     },
     "execution_count": 14,
     "metadata": {},
     "output_type": "execute_result"
    }
   ],
   "source": [
    "rules"
   ]
  },
  {
   "cell_type": "code",
   "execution_count": 15,
   "id": "197a1f3c-0550-4a1c-97d5-40e65ca36568",
   "metadata": {},
   "outputs": [
    {
     "data": {
      "text/plain": [
       "[RelationRecord(items=frozenset({'light cream', 'chicken'}), support=0.004532728969470737, ordered_statistics=[OrderedStatistic(items_base=frozenset({'light cream'}), items_add=frozenset({'chicken'}), confidence=0.29059829059829057, lift=4.84395061728395)]),\n",
       " RelationRecord(items=frozenset({'escalope', 'mushroom cream sauce'}), support=0.005732568990801226, ordered_statistics=[OrderedStatistic(items_base=frozenset({'mushroom cream sauce'}), items_add=frozenset({'escalope'}), confidence=0.3006993006993007, lift=3.790832696715049)]),\n",
       " RelationRecord(items=frozenset({'escalope', 'pasta'}), support=0.005865884548726837, ordered_statistics=[OrderedStatistic(items_base=frozenset({'pasta'}), items_add=frozenset({'escalope'}), confidence=0.3728813559322034, lift=4.700811850163794)]),\n",
       " RelationRecord(items=frozenset({'fromage blanc', 'honey'}), support=0.003332888948140248, ordered_statistics=[OrderedStatistic(items_base=frozenset({'fromage blanc'}), items_add=frozenset({'honey'}), confidence=0.2450980392156863, lift=5.164270764485569)]),\n",
       " RelationRecord(items=frozenset({'herb & pepper', 'ground beef'}), support=0.015997866951073192, ordered_statistics=[OrderedStatistic(items_base=frozenset({'herb & pepper'}), items_add=frozenset({'ground beef'}), confidence=0.3234501347708895, lift=3.2919938411349285)]),\n",
       " RelationRecord(items=frozenset({'ground beef', 'tomato sauce'}), support=0.005332622317024397, ordered_statistics=[OrderedStatistic(items_base=frozenset({'tomato sauce'}), items_add=frozenset({'ground beef'}), confidence=0.3773584905660377, lift=3.840659481324083)]),\n",
       " RelationRecord(items=frozenset({'olive oil', 'light cream'}), support=0.003199573390214638, ordered_statistics=[OrderedStatistic(items_base=frozenset({'light cream'}), items_add=frozenset({'olive oil'}), confidence=0.20512820512820515, lift=3.1147098515519573)]),\n",
       " RelationRecord(items=frozenset({'olive oil', 'whole wheat pasta'}), support=0.007998933475536596, ordered_statistics=[OrderedStatistic(items_base=frozenset({'whole wheat pasta'}), items_add=frozenset({'olive oil'}), confidence=0.2714932126696833, lift=4.122410097642296)]),\n",
       " RelationRecord(items=frozenset({'pasta', 'shrimp'}), support=0.005065991201173177, ordered_statistics=[OrderedStatistic(items_base=frozenset({'pasta'}), items_add=frozenset({'shrimp'}), confidence=0.3220338983050847, lift=4.506672147735896)])]"
      ]
     },
     "execution_count": 15,
     "metadata": {},
     "output_type": "execute_result"
    }
   ],
   "source": [
    "results = list(rules)\n",
    "results"
   ]
  },
  {
   "cell_type": "code",
   "execution_count": 16,
   "id": "10826234-4ba6-4dca-866a-5e5a11787118",
   "metadata": {},
   "outputs": [
    {
     "data": {
      "text/plain": [
       "0.004532728969470737"
      ]
     },
     "execution_count": 16,
     "metadata": {},
     "output_type": "execute_result"
    }
   ],
   "source": [
    "results[0][1] # Support "
   ]
  },
  {
   "cell_type": "code",
   "execution_count": 17,
   "id": "ada95d0a-fcca-41f6-97e3-c0c3b4b8b221",
   "metadata": {},
   "outputs": [
    {
     "data": {
      "text/plain": [
       "frozenset({'light cream'})"
      ]
     },
     "execution_count": 17,
     "metadata": {},
     "output_type": "execute_result"
    }
   ],
   "source": [
    "results[0][2][0][0] # base item "
   ]
  },
  {
   "cell_type": "code",
   "execution_count": 18,
   "id": "4454934a-70e4-4027-9810-5cb2a97eb085",
   "metadata": {},
   "outputs": [
    {
     "data": {
      "text/plain": [
       "frozenset({'chicken'})"
      ]
     },
     "execution_count": 18,
     "metadata": {},
     "output_type": "execute_result"
    }
   ],
   "source": [
    "results[0][2][0][1] # add item "
   ]
  },
  {
   "cell_type": "code",
   "execution_count": 19,
   "id": "e0d4bd6a-7e9c-4015-b022-6d3d56e39a46",
   "metadata": {},
   "outputs": [
    {
     "data": {
      "text/plain": [
       "0.29059829059829057"
      ]
     },
     "execution_count": 19,
     "metadata": {},
     "output_type": "execute_result"
    }
   ],
   "source": [
    "results[0][2][0][2] # confidence  "
   ]
  },
  {
   "cell_type": "code",
   "execution_count": 20,
   "id": "6daf8954-185e-46c2-be67-2cd670e993b4",
   "metadata": {},
   "outputs": [
    {
     "data": {
      "text/plain": [
       "4.84395061728395"
      ]
     },
     "execution_count": 20,
     "metadata": {},
     "output_type": "execute_result"
    }
   ],
   "source": [
    "results[0][2][0][3] # lift "
   ]
  },
  {
   "cell_type": "code",
   "execution_count": 21,
   "id": "16ad7743-b6f5-4a35-a62b-3f5d01b8e135",
   "metadata": {},
   "outputs": [],
   "source": [
    "a = []\n",
    "b = []\n",
    "c = []\n",
    "d = []\n",
    "e = []\n",
    "\n",
    "for i in range(0,9):\n",
    "    c.append(results[i][1])           # Support \n",
    "    a.append(results[i][2][0][0])     # base item  \n",
    "    b.append(results[i][2][0][1])     # add item \n",
    "    d.append(results[i][2][0][2])     # confidence  \n",
    "    e.append(results[i][2][0][3])     # lift "
   ]
  },
  {
   "cell_type": "code",
   "execution_count": 22,
   "id": "09be7c3f-bec5-450e-9fd4-d253180ee4d5",
   "metadata": {},
   "outputs": [],
   "source": [
    "d1 = pd.DataFrame(a)\n",
    "d2 = pd.DataFrame(b)\n",
    "d3 = pd.DataFrame(c)\n",
    "d4 = pd.DataFrame(d)\n",
    "d5 = pd.DataFrame(e)"
   ]
  },
  {
   "cell_type": "code",
   "execution_count": 23,
   "id": "26019c7b-c182-426d-bc43-87e9fb2198c5",
   "metadata": {},
   "outputs": [
    {
     "data": {
      "text/html": [
       "<div>\n",
       "<style scoped>\n",
       "    .dataframe tbody tr th:only-of-type {\n",
       "        vertical-align: middle;\n",
       "    }\n",
       "\n",
       "    .dataframe tbody tr th {\n",
       "        vertical-align: top;\n",
       "    }\n",
       "\n",
       "    .dataframe thead th {\n",
       "        text-align: right;\n",
       "    }\n",
       "</style>\n",
       "<table border=\"1\" class=\"dataframe\">\n",
       "  <thead>\n",
       "    <tr style=\"text-align: right;\">\n",
       "      <th></th>\n",
       "      <th>Baseitem</th>\n",
       "      <th>Additem</th>\n",
       "      <th>Support</th>\n",
       "      <th>Confidence</th>\n",
       "      <th>Lift</th>\n",
       "    </tr>\n",
       "  </thead>\n",
       "  <tbody>\n",
       "    <tr>\n",
       "      <th>0</th>\n",
       "      <td>light cream</td>\n",
       "      <td>chicken</td>\n",
       "      <td>0.004533</td>\n",
       "      <td>0.290598</td>\n",
       "      <td>4.843951</td>\n",
       "    </tr>\n",
       "    <tr>\n",
       "      <th>1</th>\n",
       "      <td>mushroom cream sauce</td>\n",
       "      <td>escalope</td>\n",
       "      <td>0.005733</td>\n",
       "      <td>0.300699</td>\n",
       "      <td>3.790833</td>\n",
       "    </tr>\n",
       "    <tr>\n",
       "      <th>2</th>\n",
       "      <td>pasta</td>\n",
       "      <td>escalope</td>\n",
       "      <td>0.005866</td>\n",
       "      <td>0.372881</td>\n",
       "      <td>4.700812</td>\n",
       "    </tr>\n",
       "    <tr>\n",
       "      <th>3</th>\n",
       "      <td>fromage blanc</td>\n",
       "      <td>honey</td>\n",
       "      <td>0.003333</td>\n",
       "      <td>0.245098</td>\n",
       "      <td>5.164271</td>\n",
       "    </tr>\n",
       "    <tr>\n",
       "      <th>4</th>\n",
       "      <td>herb &amp; pepper</td>\n",
       "      <td>ground beef</td>\n",
       "      <td>0.015998</td>\n",
       "      <td>0.323450</td>\n",
       "      <td>3.291994</td>\n",
       "    </tr>\n",
       "    <tr>\n",
       "      <th>5</th>\n",
       "      <td>tomato sauce</td>\n",
       "      <td>ground beef</td>\n",
       "      <td>0.005333</td>\n",
       "      <td>0.377358</td>\n",
       "      <td>3.840659</td>\n",
       "    </tr>\n",
       "    <tr>\n",
       "      <th>6</th>\n",
       "      <td>light cream</td>\n",
       "      <td>olive oil</td>\n",
       "      <td>0.003200</td>\n",
       "      <td>0.205128</td>\n",
       "      <td>3.114710</td>\n",
       "    </tr>\n",
       "    <tr>\n",
       "      <th>7</th>\n",
       "      <td>whole wheat pasta</td>\n",
       "      <td>olive oil</td>\n",
       "      <td>0.007999</td>\n",
       "      <td>0.271493</td>\n",
       "      <td>4.122410</td>\n",
       "    </tr>\n",
       "    <tr>\n",
       "      <th>8</th>\n",
       "      <td>pasta</td>\n",
       "      <td>shrimp</td>\n",
       "      <td>0.005066</td>\n",
       "      <td>0.322034</td>\n",
       "      <td>4.506672</td>\n",
       "    </tr>\n",
       "  </tbody>\n",
       "</table>\n",
       "</div>"
      ],
      "text/plain": [
       "               Baseitem      Additem   Support  Confidence      Lift\n",
       "0           light cream      chicken  0.004533    0.290598  4.843951\n",
       "1  mushroom cream sauce     escalope  0.005733    0.300699  3.790833\n",
       "2                 pasta     escalope  0.005866    0.372881  4.700812\n",
       "3         fromage blanc        honey  0.003333    0.245098  5.164271\n",
       "4         herb & pepper  ground beef  0.015998    0.323450  3.291994\n",
       "5          tomato sauce  ground beef  0.005333    0.377358  3.840659\n",
       "6           light cream    olive oil  0.003200    0.205128  3.114710\n",
       "7     whole wheat pasta    olive oil  0.007999    0.271493  4.122410\n",
       "8                 pasta       shrimp  0.005066    0.322034  4.506672"
      ]
     },
     "execution_count": 23,
     "metadata": {},
     "output_type": "execute_result"
    }
   ],
   "source": [
    "data_new = pd.concat([d1,d2,d3,d4,d5], axis = 1)\n",
    "data_new.columns = ['Baseitem','Additem','Support','Confidence','Lift']\n",
    "data_new"
   ]
  },
  {
   "cell_type": "markdown",
   "id": "6fe348e3-be37-4b06-891c-2b5872c9891f",
   "metadata": {},
   "source": [
    "# Analysis and Interpretation:\n",
    "•\tAnalyse the generated rules to identify interesting patterns and relationships between the products.\n",
    "\n",
    "•\tInterpret the results and provide insights into customer purchasing behaviour based on the discovered rules."
   ]
  },
  {
   "cell_type": "markdown",
   "id": "17a6dde6-77dc-4f90-b85f-c1141b9e6383",
   "metadata": {},
   "source": [
    "a. Analysis of Generated Rules\n",
    "1. High Support and High Confidence Rules:\n",
    "\n",
    "- Look for rules with high support and confidence, as these indicate products frequently bought together. For example, if {milk} -> {bread} has high support and confidence, it means a substantial number of transactions include both milk and bread.\n",
    "- High-support rules might reveal staple combinations or popular pairings, showing essential products or high-frequency buys.\n",
    "\n",
    "2. High Lift:\n",
    "\n",
    "- Rules with lift values significantly greater than 1 indicate a strong association beyond chance, suggesting a genuine preference among customers. For example, a rule like {pasta} -> {tomato sauce} with high lift would highlight a common meal-prep pattern, indicating that customers frequently purchase ingredients for specific recipes together.\n",
    "- Identifying these can help in understanding product dependencies or habitual purchases.\n",
    "\n",
    "3. Unique or Seasonal Patterns:\n",
    "\n",
    "- Some item pairings may have moderate support but strong confidence and lift, suggesting niche buying behavior. For instance, {green tea} -> {honey} might suggest a segment of health-conscious customers purchasing these together for their dietary preferences.\n",
    "- Seasonality might also come into play; for example, {hot chocolate} -> {marshmallows} could spike during winter months, indicating seasonal buying trends.\n",
    "\n",
    "b. Customer Behavior Insights\n",
    "1. Health-Conscious and Meal-Planning Shoppers:\n",
    "\n",
    "- Rules involving items like “low-fat yogurt,” “vegetable mix,” and “salad” may indicate a subset of customers focused on health. Similarly, combinations like {spinach} -> {salmon} could indicate meal-planning behavior for home-cooked, nutritious meals.\n",
    "- These patterns suggest that targeting promotions on health-related items or providing recipe ideas could resonate well with this segment.\n",
    "\n",
    "2. Impulse and Snack Purchases:\n",
    "\n",
    "- If items like “chocolate,” “chips,” and “soda” are associated, it suggests an impulse-buy segment, where customers add these items to their cart as quick snacks. Cross-promotions or bundle offers on these items may increase sales.\n",
    "\n",
    "3.Staple or Convenience Shopping:\n",
    "\n",
    "- Associations like {bread} -> {milk} may suggest customers purchasing basic staples, possibly indicative of regular, frequent shopping trips.\n",
    "- Placing staple items in convenient areas or bundling frequently bought items in a subscription or convenience package might enhance customer satisfaction and retention.\n",
    "\n",
    "c. Business Recommendations\n",
    "1. Product Placement and Promotions:\n",
    "\n",
    "- Use identified associations to place frequently bought-together items near each other. If {energy drinks} -> {snack bars} is a common association, place these items together or offer bundle discounts.\n",
    "\n",
    "2.Targeted Advertising and Recommendations:\n",
    "\n",
    "- Target ads or personalized recommendations based on high-confidence, high-lift rules. For instance, if {green tea} -> {honey} is common, recommend honey to customers purchasing green tea to encourage additional purchases.\n",
    "\n",
    "3.Bundling and Cross-Selling Opportunities:\n",
    "\n",
    "- Create bundles based on the identified frequent item pairs, such as “breakfast essentials” for {bread, eggs, milk} or “health packs” for {low-fat yogurt, spinach, green tea}."
   ]
  },
  {
   "cell_type": "markdown",
   "id": "7adf2b72-6b1b-431d-b2d4-d0fcd0c200d2",
   "metadata": {},
   "source": [
    "# 1.\tWhat is lift and why is it important in Association rules?\n",
    "- Lift is a key metric in association rule mining that measures the strength of the relationship between two items beyond their individual purchase probabilities. Specifically, it shows how much more likely two items are bought together than if they were bought independently.\n",
    "\n",
    "- Definition of Lift: For an association rule 𝐴→𝐵, Lift is calculated as: Lift = confidence(𝐴→𝐵)/Support(𝐵)\n",
    "- Alternatively, it can be expressed as: Lift = Support(𝐴 and 𝐵)/Support(𝐴)×Support(𝐵)\n",
    "\n",
    "- ​Interpretation of Lift Values\n",
    "1. Lift > 1: This means that the occurrence of A increases the likelihood of B happening, suggesting a positive association.For instance, if Lift = 2, A and B are twice as likely to be bought together than if they were independent.\n",
    "2. Lift = 1: This implies no association; A and B occur together purely by chance and are statistically independent.\n",
    "3. Lift < 1: This indicates a negative association, meaning A and B are less likely to be bought together than expected by chance.\n",
    "\n",
    "- Why Lift is Important\n",
    "1. Identifies Strong Relationships: Lift provides a more robust indication of association strength compared to support or confidence alone. Confidence may indicate a strong relationship, but it can be misleading if the consequent item is already common. Lift adjusts for this by accounting for the baseline probability of both items occurring independently.\n",
    "\n",
    "2. Reveals Potential Cross-Selling Opportunities: High-lift values identify combinations where buying one product significantly boosts the chance of buying the other, ideal for cross-selling strategies and product bundling.\n",
    "\n",
    "3. Improves Decision-Making: For retailers, lift helps prioritize the associations with genuine influence on buying behavior, rather than those coincidental or expected purely from individual purchase frequencies."
   ]
  },
  {
   "cell_type": "markdown",
   "id": "94e4a89c-61d3-44b9-9483-40418dd7186e",
   "metadata": {},
   "source": [
    "# 2.\tWhat is support and Confidence. How do you calculate them?\n",
    "\n",
    "1. Support : Support measures how frequently an itemset (a set of items bought together) appears in the dataset. It helps in identifying popular item combinations and determining whether a rule is relevant based on its occurrence.\n",
    "\n",
    "- Formula: For an itemset A, the support is defined as: Support(𝐴) = Number of transactions containing 𝐴 / Total number of transactions\n",
    " \n",
    "- For a rule 𝐴→𝐵 (where A and B are sets of items), the support of the rule is: Support(𝐴→𝐵) = Number of transactions containing both 𝐴 and 𝐵 / Total number of transactions\n",
    "\n",
    "​2. Confidence : Confidence measures the likelihood that the consequent (B) will be bought when the antecedent (A) is bought. It provides an estimate of the reliability of the rule.\n",
    "\n",
    "- Formula: For a rule A→B, confidence is defined as: Confidence, Confidence(A→B) = Support(A) / Support(A and B) Or alternatively: Confidence(A→B) = Number of transactions containing A / Number of transactions containing both A and B"
   ]
  },
  {
   "cell_type": "markdown",
   "id": "1547eeeb-2efe-4f47-bc01-80edbf3320c2",
   "metadata": {},
   "source": [
    "# 3.\tWhat are some limitations or challenges of Association rules mining?\n",
    "\n",
    "1. High Dimensionality and Data Sparsity\n",
    "- In large datasets with numerous items, the number of possible item combinations becomes enormous, leading to high dimensionality. This can make association rule mining computationally expensive and result in a huge number of potential rules, many of which may not be useful.\n",
    "- Data sparsity (when there are many items but each transaction has only a few items) further complicates mining, as it reduces the likelihood of finding frequent itemsets and can lead to an overabundance of low-support rules.\n",
    "\n",
    "2. Choosing Optimal Thresholds for Support, Confidence, and Lift\n",
    "- Selecting appropriate thresholds for support, confidence, and lift is often challenging. Setting thresholds too high may result in missing valuable rules, while setting them too low can produce too many rules, including trivial or insignificant ones.\n",
    "- There is no universal threshold, so these values often require fine-tuning based on domain knowledge and experimentation, which can be time-consuming.\n",
    "\n",
    "3. Interpretation and Actionability of Results\n",
    "- Association rules can reveal relationships but don’t provide insights into causality. For example, an association rule might show that bread and butter are frequently purchased together, but it doesn’t explain why. Therefore, business context and expertise are required to interpret the results and derive actionable insights.\n",
    "- Moreover, not all generated rules are meaningful or actionable, as some rules may appear simply due to random chance or customer preferences without strong predictive value.\n",
    "\n",
    "4. Handling Rare but Important Associations\n",
    "- Standard association rule mining techniques often miss rare but valuable associations due to low support. In some cases, these rare associations might represent critical customer segments or niche products (e.g., high-value items or specialty goods) that have unique purchasing patterns but occur infrequently.\n",
    "\n",
    "5. Scalability and Computational Efficiency\n",
    "- For very large datasets, traditional association rule algorithms (like Apriori) can be computationally intensive. As dataset size increases, so does the time and memory required to generate frequent itemsets and rules, limiting scalability.\n",
    "- More advanced algorithms (such as FP-Growth) can help alleviate this, but the trade-off is often added complexity in implementation.\n",
    "\n",
    "6. Managing Redundant or Uninteresting Rules\n",
    "- Association rule mining can produce a high number of redundant rules (e.g., variations of the same association) or trivial rules that don’t add much value. For instance, rules that state the obvious (e.g., “bread -> butter”) are common but don’t provide new insights. This redundancy complicates analysis, as it requires manual filtering to identify truly useful rules.\n",
    "\n",
    "7. Dynamic and Evolving Data\n",
    "- Customer behavior can change over time, which means association rules based on historical data may not always reflect current trends. Retailers need to periodically update the rules to maintain relevance.\n",
    "- Dynamic and streaming data environments present additional challenges, as traditional rule-mining algorithms may not be able to adapt efficiently to new data in real-time.\n",
    "\n",
    "8. Binary Item Representation\n",
    "Association rule mining generally treats items as either \"present\" or \"absent\" in a transaction, ignoring quantities and other contextual factors (such as price or customer demographics). This simplistic approach limits the granularity of insights and makes it difficult to account for nuances, like customers buying in bulk versus those making one-off purchases."
   ]
  }
 ],
 "metadata": {
  "kernelspec": {
   "display_name": "Python 3 (ipykernel)",
   "language": "python",
   "name": "python3"
  },
  "language_info": {
   "codemirror_mode": {
    "name": "ipython",
    "version": 3
   },
   "file_extension": ".py",
   "mimetype": "text/x-python",
   "name": "python",
   "nbconvert_exporter": "python",
   "pygments_lexer": "ipython3",
   "version": "3.11.7"
  }
 },
 "nbformat": 4,
 "nbformat_minor": 5
}
