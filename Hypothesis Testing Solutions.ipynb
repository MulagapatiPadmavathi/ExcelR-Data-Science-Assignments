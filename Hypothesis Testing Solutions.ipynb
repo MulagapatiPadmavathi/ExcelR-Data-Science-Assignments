{
 "cells": [
  {
   "cell_type": "markdown",
   "id": "52598b3f-c291-43c0-871a-d097cbfb9bd8",
   "metadata": {},
   "source": [
    "# 1. State the Hypotheses Statement:\n",
    "- Null Hypothesis (H₀): The restaurant owners claim is incorrect, and the true mean weekly operating cost still follows the theoretical model.\n",
    "\n",
    "- 𝐻0:𝜇=1,000+5𝑋=1,000+5(600)=4,000\n",
    "\n",
    "- Alternative Hypothesis (H₁): The restaurant owners' claim is correct, and the true mean weekly operating cost is higher than the theoretical cost model.\n",
    "\n",
    "- 𝐻1:𝜇>4,000"
   ]
  },
  {
   "cell_type": "code",
   "execution_count": 9,
   "id": "d982c431-fb6b-4b71-a2b1-b0187e95359b",
   "metadata": {},
   "outputs": [],
   "source": [
    "import math\n",
    "from scipy.stats import norm"
   ]
  },
  {
   "cell_type": "code",
   "execution_count": 8,
   "id": "c75ddb83-2170-43ae-aaef-f09a6f30dcd3",
   "metadata": {},
   "outputs": [],
   "source": [
    "#Given Data\n",
    "x_bar = 3050           # sample mean weekly cost\n",
    "mu = 4000              # theoretical mean weekly cost\n",
    "sigma = 5 * 25         # standard deviation\n",
    "n = 25                 # sample size\n",
    "alpha = 0.05           # signifiance level"
   ]
  },
  {
   "cell_type": "markdown",
   "id": "bc0975aa-8bbe-4c97-ab40-e41d4389be54",
   "metadata": {},
   "source": [
    "# 2. Calculate the test statistic (t)\n"
   ]
  },
  {
   "cell_type": "code",
   "execution_count": 15,
   "id": "ce63ade3-7d4e-40e1-9cd8-83fd4786e057",
   "metadata": {},
   "outputs": [
    {
     "name": "stdout",
     "output_type": "stream",
     "text": [
      "Test statistic (t): -38.0\n"
     ]
    }
   ],
   "source": [
    "t_statistic = (x_bar-mu)/(sigma/math.sqrt(n))\n",
    "print(\"Test statistic (t):\", t_statistic)"
   ]
  },
  {
   "cell_type": "markdown",
   "id": "e95c50a3-69d2-4739-99e4-97bcafe51dcb",
   "metadata": {},
   "source": [
    "# 3. Determine the Critical Value\n",
    "- For a one-tailed test at the 5% significance level (α = 0.05), we will use the critical value from the Z-distribution table. Since the sample size is small, a t-distribution would typically be used, but since σ is provided and we assume normality, we can approximate with the standard normal distribution (Z-distribution). The critical value at α = 0.05 is 1.645 for a one-tailed test."
   ]
  },
  {
   "cell_type": "code",
   "execution_count": 18,
   "id": "c3afbd24-5f3e-4967-afb3-92adc515dbfd",
   "metadata": {},
   "outputs": [
    {
     "name": "stdout",
     "output_type": "stream",
     "text": [
      "Critical value (Z) at alpha = 0.05: 1.6448536269514722\n"
     ]
    }
   ],
   "source": [
    "critical_value = norm.ppf(1 - alpha)\n",
    "print(\"Critical value (Z) at alpha = 0.05:\", critical_value)"
   ]
  },
  {
   "cell_type": "markdown",
   "id": "2d96ce28-bd68-45e9-a62d-b179a26362ff",
   "metadata": {},
   "source": [
    "# 4. Decision Making"
   ]
  },
  {
   "cell_type": "code",
   "execution_count": 24,
   "id": "72735b18-43fc-4a85-8422-57c94dbb5730",
   "metadata": {},
   "outputs": [
    {
     "name": "stdout",
     "output_type": "stream",
     "text": [
      "Fail to Reject the Null Hypothesis: No strong evidence to suggest weekly operating costs are higher.\n"
     ]
    }
   ],
   "source": [
    "#comparing the calculated test statistic with the critical value to determine whether to reject the null hypothesis.\n",
    "\n",
    "if t_statistic > critical_value:\n",
    "    print(\"Reject the Null Hypothesis(H0): There is strong evidence that weekly operating costs are higher.\")\n",
    "else:          # since the test statistic t = -38.0 is much less than the critical value Z = 1.645, we fail to reject the null hypothesis\n",
    "    print(\"Fail to Reject the Null Hypothesis: No strong evidence to suggest weekly operating costs are higher.\")"
   ]
  },
  {
   "cell_type": "markdown",
   "id": "565efaa2-6158-4601-bfa9-7df285da6c55",
   "metadata": {},
   "source": [
    "# 5. Conclusion"
   ]
  },
  {
   "cell_type": "code",
   "execution_count": 22,
   "id": "59a1ce8e-7661-4b69-b95e-a9a2ad34875b",
   "metadata": {},
   "outputs": [
    {
     "name": "stdout",
     "output_type": "stream",
     "text": [
      "There is no strong evidence to support the restaurant owners' claim that the weekly operating costs are higher than what the theoretical model suggests. In fact, the sample mean weekly cost is significantly lower than the predicted value from the model.\n"
     ]
    }
   ],
   "source": [
    "# conclusions based on above analysis\n",
    "\n",
    "print(\"There is no strong evidence to support the restaurant owners' claim that the weekly operating costs are higher than what the theoretical model suggests. In fact, the sample mean weekly cost is significantly lower than the predicted value from the model.\") "
   ]
  },
  {
   "cell_type": "code",
   "execution_count": null,
   "id": "b8a0e883-fbdc-4436-a898-a93eb2b19332",
   "metadata": {},
   "outputs": [],
   "source": []
  }
 ],
 "metadata": {
  "kernelspec": {
   "display_name": "Python 3 (ipykernel)",
   "language": "python",
   "name": "python3"
  },
  "language_info": {
   "codemirror_mode": {
    "name": "ipython",
    "version": 3
   },
   "file_extension": ".py",
   "mimetype": "text/x-python",
   "name": "python",
   "nbconvert_exporter": "python",
   "pygments_lexer": "ipython3",
   "version": "3.11.7"
  }
 },
 "nbformat": 4,
 "nbformat_minor": 5
}
